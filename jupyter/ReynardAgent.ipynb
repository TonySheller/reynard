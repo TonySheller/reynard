{
 "cells": [
  {
   "cell_type": "markdown",
   "id": "1f42beb6-cbf3-4361-aacd-f88d40974b93",
   "metadata": {},
   "source": [
    "# Develop the Reynard Agent"
   ]
  },
  {
   "cell_type": "code",
   "execution_count": 1,
   "id": "0b9b36e2-7b4e-45b8-b444-9acac32b7cee",
   "metadata": {},
   "outputs": [],
   "source": [
    "# This lets me import the Python modules from the directory below this one\n",
    "import sys\n",
    "sys.path.insert(0, '../../reynard')\n",
    "\n",
    "\n",
    "from pylab import *\n",
    "import matplotlib.pyplot as plt\n",
    "import os\n",
    "import pyAgrum as gum\n",
    "import pyAgrum.lib.notebook as gnb\n",
    "from reynard_puzzle import Puzzle\n",
    "from reynard_agent import Agent\n",
    "from reynard_constants import letter_frequency, two_letter_word_frequency"
   ]
  },
  {
   "cell_type": "code",
   "execution_count": null,
   "id": "06f579fa-3151-43f3-b59c-94b59283375b",
   "metadata": {},
   "outputs": [],
   "source": []
  }
 ],
 "metadata": {
  "kernelspec": {
   "display_name": "Python 3",
   "language": "python",
   "name": "python3"
  },
  "language_info": {
   "codemirror_mode": {
    "name": "ipython",
    "version": 3
   },
   "file_extension": ".py",
   "mimetype": "text/x-python",
   "name": "python",
   "nbconvert_exporter": "python",
   "pygments_lexer": "ipython3",
   "version": "3.8.10"
  }
 },
 "nbformat": 4,
 "nbformat_minor": 5
}
