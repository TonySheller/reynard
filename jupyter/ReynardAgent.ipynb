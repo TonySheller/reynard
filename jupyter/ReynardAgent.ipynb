{
 "cells": [
  {
   "cell_type": "markdown",
   "id": "1f42beb6-cbf3-4361-aacd-f88d40974b93",
   "metadata": {},
   "source": [
    "# Develop the Reynard Agent"
   ]
  },
  {
   "cell_type": "code",
   "execution_count": 3,
   "id": "0b9b36e2-7b4e-45b8-b444-9acac32b7cee",
   "metadata": {},
   "outputs": [],
   "source": [
    "# This lets me import the Python modules from the directory below this one\n",
    "import sys\n",
    "sys.path.insert(0, '../../reynard')\n",
    "\n",
    "\n",
    "from pylab import *\n",
    "import matplotlib.pyplot as plt\n",
    "import os\n",
    "import pyAgrum as gum\n",
    "import pyAgrum.lib.notebook as gnb\n",
    "from reynard_puzzle import Puzzle\n",
    "from reynard_constants import letter_frequency, two_letter_word_frequency\n",
    "from reynard_mcts import *"
   ]
  },
  {
   "cell_type": "code",
   "execution_count": 4,
   "id": "06f579fa-3151-43f3-b59c-94b59283375b",
   "metadata": {},
   "outputs": [
    {
     "data": {
      "text/plain": [
       "[575, 529, 485, 443, 402, 363, 325]"
      ]
     },
     "execution_count": 4,
     "metadata": {},
     "output_type": "execute_result"
    }
   ],
   "source": [
    "# Action lengths\n",
    "action_array = [575,529,485,443,402,363,325,291,259,229,201,174,148,125,104,85,68,53,39,28]"
   ]
  },
  {
   "cell_type": "code",
   "execution_count": 8,
   "id": "1221e516-810d-4399-8b77-16fd425bbb0e",
   "metadata": {},
   "outputs": [
    {
     "name": "stdout",
     "output_type": "stream",
     "text": [
      "46\n",
      "44\n",
      "42\n",
      "19\n"
     ]
    }
   ],
   "source": [
    "print(575-529)\n",
    "print(529-485)\n",
    "print(485-443)\n",
    "print(104-85)"
   ]
  },
  {
   "cell_type": "markdown",
   "id": "3ada2c67-b704-447f-b3cc-26533844aa99",
   "metadata": {},
   "source": [
    "After terminating we set a termination value and then \n",
    "- randomPolicy\n",
    "\n",
    "mcts.executeround -><br>\n",
    "    mcts.selectNode -> # Get's the root node<br>\n",
    "    mcts.rollout(node.state)<br>\n",
    "while not State.isTerminal():<br>\n",
    "    mcts.randomPolicy -> state.getPossibleActions()<br>\n",
    "    mcts.randomPolciy -> state.takeAction()<br>\n",
    "return state.getReward<br>\n",
    "\n",
    "mcts.e\n",
    "\n"
   ]
  },
  {
   "cell_type": "code",
   "execution_count": 9,
   "id": "8363a137-7acf-438a-abe5-51d0545c40df",
   "metadata": {},
   "outputs": [],
   "source": [
    "puzzle = Puzzle('/mnt/e/OneDrive - Johns Hopkins/EN.605.745/reynard/data/pz1.txt')"
   ]
  },
  {
   "cell_type": "code",
   "execution_count": 10,
   "id": "adcd322d-6c3d-4289-b85a-bd2db8f1322d",
   "metadata": {},
   "outputs": [
    {
     "name": "stdout",
     "output_type": "stream",
     "text": [
      "26\n"
     ]
    }
   ],
   "source": [
    "st = 'abcdefghijklmnopqrstuvwxyz'\n",
    "j=0\n",
    "for i in st:\n",
    "   j += 1\n",
    "print(j)"
   ]
  },
  {
   "cell_type": "code",
   "execution_count": null,
   "id": "e991c4e0-9192-42e3-88fd-5c4459d0e350",
   "metadata": {},
   "outputs": [],
   "source": []
  }
 ],
 "metadata": {
  "kernelspec": {
   "display_name": "Python 3",
   "language": "python",
   "name": "python3"
  },
  "language_info": {
   "codemirror_mode": {
    "name": "ipython",
    "version": 3
   },
   "file_extension": ".py",
   "mimetype": "text/x-python",
   "name": "python",
   "nbconvert_exporter": "python",
   "pygments_lexer": "ipython3",
   "version": "3.8.10"
  }
 },
 "nbformat": 4,
 "nbformat_minor": 5
}
