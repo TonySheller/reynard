{
 "cells": [
  {
   "cell_type": "markdown",
   "id": "fd7f7366-690d-4b46-a2d1-bc33d998da22",
   "metadata": {},
   "source": [
    "# Get a list of all two letter words using the NLTK"
   ]
  },
  {
   "cell_type": "code",
   "execution_count": 1,
   "id": "1fc7c53e-dd64-4ad7-8809-42561e733f7f",
   "metadata": {},
   "outputs": [],
   "source": [
    "from nltk.corpus import words\n",
    "import nltk"
   ]
  },
  {
   "cell_type": "code",
   "execution_count": 6,
   "id": "a0cca8bd-95be-48d9-a119-b087bee01b82",
   "metadata": {},
   "outputs": [
    {
     "name": "stderr",
     "output_type": "stream",
     "text": [
      "[nltk_data] Downloading package words to /home/asheller/nltk_data...\n",
      "[nltk_data]   Unzipping corpora/words.zip.\n"
     ]
    },
    {
     "data": {
      "text/plain": [
       "True"
      ]
     },
     "execution_count": 6,
     "metadata": {},
     "output_type": "execute_result"
    }
   ],
   "source": [
    "nltk.download('words')"
   ]
  },
  {
   "cell_type": "code",
   "execution_count": 9,
   "id": "2f4e7bfd-6392-4c2a-9b7d-574b28bc08b3",
   "metadata": {},
   "outputs": [
    {
     "data": {
      "text/plain": [
       "236736"
      ]
     },
     "execution_count": 9,
     "metadata": {},
     "output_type": "execute_result"
    }
   ],
   "source": [
    "len(words.words())"
   ]
  },
  {
   "cell_type": "code",
   "execution_count": 12,
   "id": "d5f61cfd-faa5-4b47-b01e-c095599cc6ad",
   "metadata": {},
   "outputs": [],
   "source": [
    "two_letter_word_list = []\n",
    "for word in words.words():\n",
    "    if len(word) == 2:\n",
    "        two_letter_word_list.append(word)"
   ]
  },
  {
   "cell_type": "code",
   "execution_count": 14,
   "id": "d23a7d4f-9520-44cd-a2e3-0a79a587a657",
   "metadata": {},
   "outputs": [
    {
     "data": {
      "text/plain": [
       "176"
      ]
     },
     "execution_count": 14,
     "metadata": {},
     "output_type": "execute_result"
    }
   ],
   "source": [
    "len(two_letter_word_list)"
   ]
  },
  {
   "cell_type": "code",
   "execution_count": 18,
   "id": "bacc7262-be81-411e-a766-8787e17e373c",
   "metadata": {},
   "outputs": [],
   "source": [
    "three_letter_word_list = []\n",
    "for word in words.words():\n",
    "    if len(word) == 3:\n",
    "        three_letter_word_list.append(word)"
   ]
  },
  {
   "cell_type": "code",
   "execution_count": 19,
   "id": "287eb1bc-6b6b-408f-a445-f526ff5a7c49",
   "metadata": {},
   "outputs": [
    {
     "data": {
      "text/plain": [
       "1510"
      ]
     },
     "execution_count": 19,
     "metadata": {},
     "output_type": "execute_result"
    }
   ],
   "source": [
    "len(three_letter_word_list)"
   ]
  },
  {
   "cell_type": "code",
   "execution_count": 21,
   "id": "97f26f41-7f2c-4b27-8a9c-9bd78359382b",
   "metadata": {},
   "outputs": [
    {
     "data": {
      "text/plain": [
       "True"
      ]
     },
     "execution_count": 21,
     "metadata": {},
     "output_type": "execute_result"
    }
   ],
   "source": [
    "\"fine\" in words.words()"
   ]
  },
  {
   "cell_type": "code",
   "execution_count": 22,
   "id": "6cd8c603-3035-4b91-981d-6b99ddd0dea3",
   "metadata": {},
   "outputs": [
    {
     "data": {
      "text/plain": [
       "False"
      ]
     },
     "execution_count": 22,
     "metadata": {},
     "output_type": "execute_result"
    }
   ],
   "source": [
    "\"fien\" in words.words()"
   ]
  },
  {
   "cell_type": "code",
   "execution_count": null,
   "id": "58a5c287-e5a5-4546-bf7c-3e5fbd025826",
   "metadata": {},
   "outputs": [],
   "source": []
  }
 ],
 "metadata": {
  "kernelspec": {
   "display_name": "Python 3",
   "language": "python",
   "name": "python3"
  },
  "language_info": {
   "codemirror_mode": {
    "name": "ipython",
    "version": 3
   },
   "file_extension": ".py",
   "mimetype": "text/x-python",
   "name": "python",
   "nbconvert_exporter": "python",
   "pygments_lexer": "ipython3",
   "version": "3.8.10"
  }
 },
 "nbformat": 4,
 "nbformat_minor": 5
}
