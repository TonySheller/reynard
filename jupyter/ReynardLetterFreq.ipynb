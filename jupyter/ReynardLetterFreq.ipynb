{
 "cells": [
  {
   "cell_type": "code",
   "execution_count": 52,
   "id": "a1248f3b-fae5-42b1-b1a3-08cd65d67627",
   "metadata": {},
   "outputs": [],
   "source": [
    "# This lets me import the Python modules from the directory below this one\n",
    "import sys\n",
    "sys.path.insert(0, '../../reynard')\n",
    "\n",
    "\n",
    "from pylab import *\n",
    "import matplotlib.pyplot as plt\n",
    "import os\n",
    "import pyAgrum as gum\n",
    "import pyAgrum.lib.notebook as gnb\n",
    "from reynard_puzzle import Puzzle\n",
    "from reynard_agent import Agent\n",
    "from reynard_constants import letter_frequency, two_letter_word_frequency\n",
    "import operator"
   ]
  },
  {
   "cell_type": "code",
   "execution_count": 53,
   "id": "e0a09ed9-1980-449c-a5a1-8c9fd7c35ec7",
   "metadata": {},
   "outputs": [],
   "source": [
    "puzzle = Puzzle('/mnt/e/OneDrive - Johns Hopkins/EN.605.745/reynard/data/pz1.txt')"
   ]
  },
  {
   "cell_type": "code",
   "execution_count": 54,
   "id": "8c453c32-fe92-43bf-846f-72270b73b119",
   "metadata": {},
   "outputs": [
    {
     "data": {
      "text/plain": [
       "'CK GEEZOT KG QM IGP KWXK KWCT PXT\\nKWM OMXA RGB GH NXIECIY:  KG MIKMO\\nX PGOAN ZIACJM KWM GIM BGZ HCIN\\nBGZOTMAH LZONMIMN PCKW, XIN QGSM\\nBGZO LGNB KGPXON IGKWCIY LZK X\\nDOXBMO KWXK KCQM QCYWK TAGP\\nNGPI. (WXICH XLNZOOXVCL)'"
      ]
     },
     "execution_count": 54,
     "metadata": {},
     "output_type": "execute_result"
    }
   ],
   "source": [
    "puzzle.pz_as_string"
   ]
  },
  {
   "cell_type": "code",
   "execution_count": 55,
   "id": "c6db9e6c-bc00-410e-820d-3b5456002dc1",
   "metadata": {},
   "outputs": [
    {
     "name": "stdout",
     "output_type": "stream",
     "text": [
      "__ ______ __ __ ___ ____ ____ ___\n",
      "CK GEEZOT KG QM IGP KWXK KWCT PXT\n",
      "___ ____ ___ __ _______:  __ _____\n",
      "KWM OMXA RGB GH NXIECIY:  KG MIKMO\n",
      "_ _____ ______ ___ ___ ___ ____\n",
      "X PGOAN ZIACJM KWM GIM BGZ HCIN\n",
      "________ ________ ____, ___ ____\n",
      "BGZOTMAH LZONMIMN PCKW, XIN QGSM\n",
      "____ ____ ______ _______ ___ _\n",
      "BGZO LGNB KGPXON IGKWCIY LZK X\n",
      "______ ____ ____ _____ ____\n",
      "DOXBMO KWXK KCQM QCYWK TAGP\n",
      "____. (_____ __________)\n",
      "NGPI. (WXICH XLNZOOXVCL)\n"
     ]
    }
   ],
   "source": [
    "puzzle.showPuzzle()"
   ]
  },
  {
   "cell_type": "code",
   "execution_count": 60,
   "id": "ece7fb91-fc4d-4463-9e8d-268d1be178c4",
   "metadata": {},
   "outputs": [],
   "source": [
    "def letterFreqAnalysis(puzzle):\n",
    "    letterprobs = {}\n",
    "    summed = 0\n",
    "    for key in puzzle.pz_letter_freqeuncy.keys():\n",
    "        summed += puzzle.pz_letter_freqeuncy[key]\n",
    "    for key2 in puzzle.pz_letter_freqeuncy.keys():\n",
    "        letterprobs[key2] =  puzzle.pz_letter_freqeuncy[key2]/summed\n",
    "    sorted_probs = sorted(letterprobs.items(), key=operator.itemgetter(1),reverse=True)\n",
    "    return dict(sorted_probs)\n",
    "\n",
    "lp = letterFreqAnalysis(puzzle)\n",
    "    \n"
   ]
  },
  {
   "cell_type": "code",
   "execution_count": 61,
   "id": "cfb79e70-65d0-473f-817f-fc5d5a21eda3",
   "metadata": {},
   "outputs": [
    {
     "data": {
      "text/plain": [
       "{'K': 0.09941520467836257,\n",
       " 'G': 0.09941520467836257,\n",
       " 'M': 0.08187134502923976,\n",
       " 'I': 0.07602339181286549,\n",
       " 'X': 0.07602339181286549,\n",
       " 'O': 0.07017543859649122,\n",
       " 'C': 0.06432748538011696,\n",
       " 'N': 0.05847953216374269,\n",
       " 'W': 0.05263157894736842,\n",
       " 'Z': 0.04678362573099415,\n",
       " 'P': 0.04093567251461988,\n",
       " 'B': 0.03508771929824561,\n",
       " 'T': 0.029239766081871343,\n",
       " 'A': 0.029239766081871343,\n",
       " 'L': 0.029239766081871343,\n",
       " 'Q': 0.023391812865497075,\n",
       " 'H': 0.023391812865497075,\n",
       " 'E': 0.017543859649122806,\n",
       " 'Y': 0.017543859649122806,\n",
       " 'R': 0.005847953216374269,\n",
       " 'J': 0.005847953216374269,\n",
       " 'S': 0.005847953216374269,\n",
       " 'D': 0.005847953216374269,\n",
       " 'V': 0.005847953216374269}"
      ]
     },
     "execution_count": 61,
     "metadata": {},
     "output_type": "execute_result"
    }
   ],
   "source": [
    "lp"
   ]
  },
  {
   "cell_type": "code",
   "execution_count": 63,
   "id": "0733fcae-41b7-4286-992a-10e550a96b3e",
   "metadata": {},
   "outputs": [
    {
     "data": {
      "text/plain": [
       "{'E': 0.111607,\n",
       " 'A': 0.084966,\n",
       " 'R': 0.075809,\n",
       " 'I': 0.075448,\n",
       " 'O': 0.071635,\n",
       " 'T': 0.069509,\n",
       " 'N': 0.066544,\n",
       " 'S': 0.057351,\n",
       " 'L': 0.054893,\n",
       " 'C': 0.045388,\n",
       " 'U': 0.036308,\n",
       " 'D': 0.033844,\n",
       " 'P': 0.031671,\n",
       " 'M': 0.030129,\n",
       " 'H': 0.030034,\n",
       " 'G': 0.024705,\n",
       " 'B': 0.02072,\n",
       " 'F': 0.018121,\n",
       " 'Y': 0.017779,\n",
       " 'W': 0.012899,\n",
       " 'K': 0.011016,\n",
       " 'V': 0.010074,\n",
       " 'X': 0.002902,\n",
       " 'Z': 0.002722,\n",
       " 'J': 0.001965,\n",
       " 'Q': 0.001962}"
      ]
     },
     "execution_count": 63,
     "metadata": {},
     "output_type": "execute_result"
    }
   ],
   "source": [
    "letter_frequency"
   ]
  },
  {
   "cell_type": "code",
   "execution_count": 64,
   "id": "7d1beb97-1c35-4d3c-ab52-4c0c4e2e410d",
   "metadata": {},
   "outputs": [],
   "source": [
    "puzzle = Puzzle('/mnt/e/OneDrive - Johns Hopkins/EN.605.745/reynard/data/solutions/sol1.txt')"
   ]
  },
  {
   "cell_type": "code",
   "execution_count": 65,
   "id": "6e2c3ae3-af8e-452a-a6bb-be7b66113e21",
   "metadata": {},
   "outputs": [],
   "source": [
    "lps = letterFreqAnalysis(puzzle)"
   ]
  },
  {
   "cell_type": "code",
   "execution_count": 70,
   "id": "475ca555-091b-4fa3-8a02-6cd17670a4ab",
   "metadata": {},
   "outputs": [
    {
     "data": {
      "text/plain": [
       "{'T': 0.09941520467836257,\n",
       " 'O': 0.09941520467836257,\n",
       " 'E': 0.08187134502923976,\n",
       " 'N': 0.07602339181286549,\n",
       " 'A': 0.07602339181286549,\n",
       " 'R': 0.07017543859649122,\n",
       " 'I': 0.06432748538011696,\n",
       " 'D': 0.05847953216374269,\n",
       " 'H': 0.05263157894736842,\n",
       " 'U': 0.04678362573099415,\n",
       " 'W': 0.04093567251461988,\n",
       " 'Y': 0.03508771929824561,\n",
       " 'S': 0.029239766081871343,\n",
       " 'L': 0.029239766081871343,\n",
       " 'B': 0.029239766081871343,\n",
       " 'M': 0.023391812865497075,\n",
       " 'F': 0.023391812865497075,\n",
       " 'C': 0.017543859649122806,\n",
       " 'G': 0.017543859649122806,\n",
       " 'J': 0.005847953216374269,\n",
       " 'K': 0.005847953216374269,\n",
       " 'V': 0.005847953216374269,\n",
       " 'P': 0.005847953216374269,\n",
       " 'Q': 0.005847953216374269}"
      ]
     },
     "execution_count": 70,
     "metadata": {},
     "output_type": "execute_result"
    }
   ],
   "source": [
    "lps"
   ]
  },
  {
   "cell_type": "code",
   "execution_count": 68,
   "id": "3fbe4e4e-752c-4ce3-b6fa-533fd2b4a3b2",
   "metadata": {},
   "outputs": [],
   "source": []
  },
  {
   "cell_type": "code",
   "execution_count": 69,
   "id": "270261d9-9f1e-4424-867e-b9de0c2355dd",
   "metadata": {},
   "outputs": [
    {
     "data": {
      "text/plain": [
       "<zip at 0x7fbb4a4b60c0>"
      ]
     },
     "execution_count": 69,
     "metadata": {},
     "output_type": "execute_result"
    }
   ],
   "source": []
  },
  {
   "cell_type": "code",
   "execution_count": null,
   "id": "f5946750-1104-4421-8057-2bfdd99288ad",
   "metadata": {},
   "outputs": [],
   "source": []
  }
 ],
 "metadata": {
  "kernelspec": {
   "display_name": "Python 3",
   "language": "python",
   "name": "python3"
  },
  "language_info": {
   "codemirror_mode": {
    "name": "ipython",
    "version": 3
   },
   "file_extension": ".py",
   "mimetype": "text/x-python",
   "name": "python",
   "nbconvert_exporter": "python",
   "pygments_lexer": "ipython3",
   "version": "3.8.10"
  }
 },
 "nbformat": 4,
 "nbformat_minor": 5
}
