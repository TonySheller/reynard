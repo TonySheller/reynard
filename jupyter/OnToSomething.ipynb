{
 "cells": [
  {
   "cell_type": "code",
   "execution_count": 1,
   "id": "61d9bcf2-4d78-44ac-ad1c-d61ee5abda2d",
   "metadata": {},
   "outputs": [],
   "source": [
    "# This lets me import the Python modules from the directory below this one\n",
    "import sys\n",
    "sys.path.insert(0, '../../reynard')\n",
    "from pylab import *\n",
    "import matplotlib.pyplot as plt\n",
    "import os\n",
    "import pyAgrum as gum\n",
    "import pyAgrum.lib.notebook as gnb\n",
    "from reynard_bn import ReynardBN\n",
    "from reynard_constants import letter_frequency, two_letter_word_frequency\n",
    "%matplotlib inline"
   ]
  },
  {
   "cell_type": "code",
   "execution_count": 2,
   "id": "69a09f06-54b0-434e-bcb6-33e23028f55a",
   "metadata": {},
   "outputs": [],
   "source": [
    "rbn = ReynardBN()"
   ]
  },
  {
   "cell_type": "code",
   "execution_count": 3,
   "id": "15fe06d7-6776-48e3-85e1-22e575c9bd22",
   "metadata": {},
   "outputs": [],
   "source": [
    "rbn.theRoot()"
   ]
  },
  {
   "cell_type": "code",
   "execution_count": 4,
   "id": "d8fb16b2-0522-4b91-8ac7-8631f2a133d8",
   "metadata": {},
   "outputs": [
    {
     "data": {
      "text/html": [
       "<svg xmlns=\"http://www.w3.org/2000/svg\" xmlns:xlink=\"http://www.w3.org/1999/xlink\" width=\"298pt\" height=\"116pt\" viewBox=\"0.00 0.00 297.84 116.00\">\n",
       "<g id=\"graph0\" class=\"graph\" transform=\"scale(1 1) rotate(0) translate(4 112)\">\n",
       "<title>G</title>\n",
       "<!-- one letter words -->\n",
       "<g id=\"node1\" class=\"node\">\n",
       "<title>one letter words</title>\n",
       "<g id=\"a_node1\"><a xlink:title=\"(0) one letter words\">\n",
       "<ellipse fill=\"#404040\" stroke=\"black\" cx=\"176.44\" cy=\"-90\" rx=\"87.18\" ry=\"18\"/>\n",
       "<text text-anchor=\"middle\" x=\"176.44\" y=\"-86.3\" font-family=\"Times,serif\" font-size=\"14.00\" fill=\"white\">one letter words</text>\n",
       "</a>\n",
       "</g>\n",
       "</g>\n",
       "<!-- E as most frequent -->\n",
       "<g id=\"node2\" class=\"node\">\n",
       "<title>E as most frequent</title>\n",
       "<g id=\"a_node2\"><a xlink:title=\"(1) E as most frequent\">\n",
       "<ellipse fill=\"#404040\" stroke=\"black\" cx=\"99.44\" cy=\"-18\" rx=\"99.38\" ry=\"18\"/>\n",
       "<text text-anchor=\"middle\" x=\"99.44\" y=\"-14.3\" font-family=\"Times,serif\" font-size=\"14.00\" fill=\"white\">E as most frequent</text>\n",
       "</a>\n",
       "</g>\n",
       "</g>\n",
       "<!-- one letter words&#45;&gt;E as most frequent -->\n",
       "<g id=\"edge1\" class=\"edge\">\n",
       "<title>one letter words-&gt;E as most frequent</title>\n",
       "<g id=\"a_edge1\"><a xlink:title=\"(0, 1) : \">\n",
       "<path fill=\"none\" stroke=\"#4a4a4a\" d=\"M157.8,-72.05C148.06,-63.2 135.98,-52.22 125.35,-42.55\"/>\n",
       "<polygon fill=\"#4a4a4a\" stroke=\"#4a4a4a\" points=\"127.66,-39.93 117.91,-35.79 122.95,-45.11 127.66,-39.93\"/>\n",
       "</a>\n",
       "</g>\n",
       "</g>\n",
       "<!-- A or I -->\n",
       "<g id=\"node3\" class=\"node\">\n",
       "<title>A or I</title>\n",
       "<g id=\"a_node3\"><a xlink:title=\"(2) A or I\">\n",
       "<ellipse fill=\"#404040\" stroke=\"black\" cx=\"253.44\" cy=\"-18\" rx=\"36.29\" ry=\"18\"/>\n",
       "<text text-anchor=\"middle\" x=\"253.44\" y=\"-14.3\" font-family=\"Times,serif\" font-size=\"14.00\" fill=\"white\">A or I</text>\n",
       "</a>\n",
       "</g>\n",
       "</g>\n",
       "<!-- one letter words&#45;&gt;A or I -->\n",
       "<g id=\"edge2\" class=\"edge\">\n",
       "<title>one letter words-&gt;A or I</title>\n",
       "<g id=\"a_edge2\"><a xlink:title=\"(0, 2) : \">\n",
       "<path fill=\"none\" stroke=\"#4a4a4a\" d=\"M195.08,-72.05C205.32,-62.74 218.15,-51.08 229.17,-41.07\"/>\n",
       "<polygon fill=\"#4a4a4a\" stroke=\"#4a4a4a\" points=\"231.76,-43.44 236.81,-34.12 227.05,-38.26 231.76,-43.44\"/>\n",
       "</a>\n",
       "</g>\n",
       "</g>\n",
       "</g>\n",
       "</svg>"
      ],
      "text/plain": [
       "(pyAgrum.BayesNet<double>@0x55e105881170) BN{nodes: 3, arcs: 2, domainSize: 8, dim: 10}"
      ]
     },
     "execution_count": 4,
     "metadata": {},
     "output_type": "execute_result"
    }
   ],
   "source": [
    "rbn.bn"
   ]
  },
  {
   "cell_type": "code",
   "execution_count": 5,
   "id": "c0a9cef2-380f-460e-b303-8fa5b85a7860",
   "metadata": {},
   "outputs": [
    {
     "data": {
      "text/html": [
       "<table style=\"border:1px solid black;\">\n",
       "<tr><th colspan='1'></th>\n",
       "      <th colspan='2' style='border:1px solid black;color:black;background-color:#808080;'><center>A or I</center>\n",
       "      </th></tr>\n",
       "<tr><th style='border:1px solid black;color:black;background-color:#808080'><center>one letter words</center></th><th style='border:1px solid black;border-bottom-style: double;color:black;background-color:#BBBBBB'>\n",
       "      <center>A</center></th><th style='border:1px solid black;border-bottom-style: double;color:black;background-color:#BBBBBB'>\n",
       "      <center>I</center></th></tr>\n",
       "<tr><th style='border:1px solid black;color:black;background-color:#BBBBBB'><center>0</center></th><td style='color:black;background-color:#ff7f64;text-align:right;'>0.0000</td><td style='color:black;background-color:#ff7f64;text-align:right;'>0.0000</td></tr>\n",
       "<tr><th style='border:1px solid black;color:black;background-color:#BBBBBB'><center>1</center></th><td style='color:black;background-color:#b9c464;text-align:right;'>0.5397</td><td style='color:black;background-color:#c4b964;text-align:right;'>0.4603</td></tr>\n",
       "</table>"
      ],
      "text/plain": [
       "(pyAgrum.Potential<double>@0x55e1066fba50) \n",
       "      ||  A or I           |\n",
       "one le||A        |I        |\n",
       "------||---------|---------|\n",
       "0     || 0.0000  | 0.0000  |\n",
       "1     || 0.5397  | 0.4603  |"
      ]
     },
     "execution_count": 5,
     "metadata": {},
     "output_type": "execute_result"
    }
   ],
   "source": [
    "rbn.bn.cpt(\"A or I\")"
   ]
  },
  {
   "cell_type": "code",
   "execution_count": 6,
   "id": "c37937d4-03fb-4115-ab00-6bf3899b376a",
   "metadata": {},
   "outputs": [],
   "source": [
    "rbn.twoLetterWordStartsWithA()"
   ]
  },
  {
   "cell_type": "code",
   "execution_count": 7,
   "id": "0746d9e0-e9bf-4248-a689-ce8a9de6cab1",
   "metadata": {},
   "outputs": [
    {
     "data": {
      "image/svg+xml": [
       "<svg xmlns=\"http://www.w3.org/2000/svg\" xmlns:xlink=\"http://www.w3.org/1999/xlink\" width=\"417pt\" height=\"188pt\" viewBox=\"0.00 0.00 416.78 188.00\">\n",
       "<g id=\"graph0\" class=\"graph\" transform=\"scale(1 1) rotate(0) translate(4 184)\">\n",
       "<title>G</title>\n",
       "<!-- one letter words -->\n",
       "<g id=\"node1\" class=\"node\">\n",
       "<title>one letter words</title>\n",
       "<g id=\"a_node1\"><a xlink:title=\"(0) one letter words\">\n",
       "<ellipse fill=\"#404040\" stroke=\"black\" cx=\"176.44\" cy=\"-162\" rx=\"87.18\" ry=\"18\"/>\n",
       "<text text-anchor=\"middle\" x=\"176.44\" y=\"-158.3\" font-family=\"Times,serif\" font-size=\"14.00\" fill=\"white\">one letter words</text>\n",
       "</a>\n",
       "</g>\n",
       "</g>\n",
       "<!-- E as most frequent -->\n",
       "<g id=\"node2\" class=\"node\">\n",
       "<title>E as most frequent</title>\n",
       "<g id=\"a_node2\"><a xlink:title=\"(1) E as most frequent\">\n",
       "<ellipse fill=\"#404040\" stroke=\"black\" cx=\"99.44\" cy=\"-90\" rx=\"99.38\" ry=\"18\"/>\n",
       "<text text-anchor=\"middle\" x=\"99.44\" y=\"-86.3\" font-family=\"Times,serif\" font-size=\"14.00\" fill=\"white\">E as most frequent</text>\n",
       "</a>\n",
       "</g>\n",
       "</g>\n",
       "<!-- one letter words&#45;&gt;E as most frequent -->\n",
       "<g id=\"edge1\" class=\"edge\">\n",
       "<title>one letter words-&gt;E as most frequent</title>\n",
       "<g id=\"a_edge1\"><a xlink:title=\"(0, 1) : \">\n",
       "<path fill=\"none\" stroke=\"#4a4a4a\" d=\"M157.8,-144.05C148.06,-135.2 135.98,-124.22 125.35,-114.55\"/>\n",
       "<polygon fill=\"#4a4a4a\" stroke=\"#4a4a4a\" points=\"127.66,-111.93 117.91,-107.79 122.95,-117.11 127.66,-111.93\"/>\n",
       "</a>\n",
       "</g>\n",
       "</g>\n",
       "<!-- A or I -->\n",
       "<g id=\"node4\" class=\"node\">\n",
       "<title>A or I</title>\n",
       "<g id=\"a_node4\"><a xlink:title=\"(2) A or I\">\n",
       "<ellipse fill=\"#404040\" stroke=\"black\" cx=\"253.44\" cy=\"-90\" rx=\"36.29\" ry=\"18\"/>\n",
       "<text text-anchor=\"middle\" x=\"253.44\" y=\"-86.3\" font-family=\"Times,serif\" font-size=\"14.00\" fill=\"white\">A or I</text>\n",
       "</a>\n",
       "</g>\n",
       "</g>\n",
       "<!-- one letter words&#45;&gt;A or I -->\n",
       "<g id=\"edge2\" class=\"edge\">\n",
       "<title>one letter words-&gt;A or I</title>\n",
       "<g id=\"a_edge2\"><a xlink:title=\"(0, 2) : \">\n",
       "<path fill=\"none\" stroke=\"#4a4a4a\" d=\"M195.08,-144.05C205.32,-134.74 218.15,-123.08 229.17,-113.07\"/>\n",
       "<polygon fill=\"#4a4a4a\" stroke=\"#4a4a4a\" points=\"231.76,-115.44 236.81,-106.12 227.05,-110.26 231.76,-115.44\"/>\n",
       "</a>\n",
       "</g>\n",
       "</g>\n",
       "<!-- two letter words starts with A? -->\n",
       "<g id=\"node3\" class=\"node\">\n",
       "<title>two letter words starts with A?</title>\n",
       "<g id=\"a_node3\"><a xlink:title=\"(3) two letter words starts with A?\">\n",
       "<ellipse fill=\"#404040\" stroke=\"black\" cx=\"253.44\" cy=\"-18\" rx=\"155.17\" ry=\"18\"/>\n",
       "<text text-anchor=\"middle\" x=\"253.44\" y=\"-14.3\" font-family=\"Times,serif\" font-size=\"14.00\" fill=\"white\">two letter words starts with A?</text>\n",
       "</a>\n",
       "</g>\n",
       "</g>\n",
       "<!-- A or I&#45;&gt;two letter words starts with A? -->\n",
       "<g id=\"edge3\" class=\"edge\">\n",
       "<title>A or I-&gt;two letter words starts with A?</title>\n",
       "<g id=\"a_edge3\"><a xlink:title=\"(2, 3) : \">\n",
       "<path fill=\"none\" stroke=\"#4a4a4a\" d=\"M253.44,-71.7C253.44,-63.98 253.44,-54.71 253.44,-46.11\"/>\n",
       "<polygon fill=\"#4a4a4a\" stroke=\"#4a4a4a\" points=\"256.94,-46.1 253.44,-36.1 249.94,-46.1 256.94,-46.1\"/>\n",
       "</a>\n",
       "</g>\n",
       "</g>\n",
       "</g>\n",
       "</svg>"
      ],
      "text/plain": [
       "<IPython.core.display.SVG object>"
      ]
     },
     "metadata": {},
     "output_type": "display_data"
    }
   ],
   "source": [
    "\n",
    "gnb.showBN(rbn.bn,size=f\"20\")"
   ]
  },
  {
   "cell_type": "code",
   "execution_count": 8,
   "id": "cb35f0ec-b012-420f-b5dd-6dfbe11d5e8c",
   "metadata": {},
   "outputs": [
    {
     "data": {
      "text/html": [
       "<table style=\"border:1px solid black;\">\n",
       "<tr><th colspan='1'></th>\n",
       "      <th colspan='2' style='border:1px solid black;color:black;background-color:#808080;'><center>two letter words starts with A?</center>\n",
       "      </th></tr>\n",
       "<tr><th style='border:1px solid black;color:black;background-color:#808080'><center>A or I</center></th><th style='border:1px solid black;border-bottom-style: double;color:black;background-color:#BBBBBB'>\n",
       "      <center>0</center></th><th style='border:1px solid black;border-bottom-style: double;color:black;background-color:#BBBBBB'>\n",
       "      <center>1</center></th></tr>\n",
       "<tr><th style='border:1px solid black;color:black;background-color:#BBBBBB'><center>A</center></th><td style='color:black;background-color:#f28b64;text-align:right;'>0.1000</td><td style='color:black;background-color:#8bf264;text-align:right;'>0.9000</td></tr>\n",
       "<tr><th style='border:1px solid black;color:black;background-color:#BBBBBB'><center>I</center></th><td style='color:black;background-color:#ff7f64;text-align:right;'>0.0000</td><td style='color:black;background-color:#ff7f64;text-align:right;'>0.0000</td></tr>\n",
       "</table>"
      ],
      "text/plain": [
       "(pyAgrum.Potential<double>@0x55e1069ec700) \n",
       "      ||  two letter words |\n",
       "A or I||0        |1        |\n",
       "------||---------|---------|\n",
       "A     || 0.1000  | 0.9000  |\n",
       "I     || 0.0000  | 0.0000  |"
      ]
     },
     "execution_count": 8,
     "metadata": {},
     "output_type": "execute_result"
    }
   ],
   "source": [
    "rbn.bn.cpt(\"two letter words starts with A?\")"
   ]
  },
  {
   "cell_type": "code",
   "execution_count": null,
   "id": "57df1c37-24c2-430f-890f-6daef1336178",
   "metadata": {},
   "outputs": [],
   "source": []
  }
 ],
 "metadata": {
  "kernelspec": {
   "display_name": "Python 3",
   "language": "python",
   "name": "python3"
  },
  "language_info": {
   "codemirror_mode": {
    "name": "ipython",
    "version": 3
   },
   "file_extension": ".py",
   "mimetype": "text/x-python",
   "name": "python",
   "nbconvert_exporter": "python",
   "pygments_lexer": "ipython3",
   "version": "3.8.10"
  }
 },
 "nbformat": 4,
 "nbformat_minor": 5
}
