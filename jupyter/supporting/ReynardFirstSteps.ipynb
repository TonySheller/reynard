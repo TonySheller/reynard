{
 "cells": [
  {
   "cell_type": "markdown",
   "id": "83b2be0c-70d6-4451-b999-a1c0b3542622",
   "metadata": {},
   "source": [
    "## First Steps\n",
    "\n",
    "Figure out Bayesian Network"
   ]
  },
  {
   "cell_type": "code",
   "execution_count": 1,
   "id": "29f4a0f7-0ced-4c67-9cda-6d927980d915",
   "metadata": {},
   "outputs": [],
   "source": [
    "# This lets me import the Python modules from the directory below this one\n",
    "import sys\n",
    "sys.path.insert(0, '../../reynard')\n",
    "from puzzle import Puzzle"
   ]
  },
  {
   "cell_type": "code",
   "execution_count": 2,
   "id": "4feca8b6-fcf4-4593-8e6c-1a1a1f08da32",
   "metadata": {},
   "outputs": [],
   "source": [
    "from pylab import *\n",
    "import matplotlib.pyplot as plt\n",
    "import os\n",
    "import pyAgrum as gum\n",
    "import pyAgrum.lib.notebook as gnb\n",
    "from puzzle import Puzzle\n",
    "from agent import Agent\n",
    "from reynard_constants import letter_frequency, two_letter_word_frequency"
   ]
  },
  {
   "cell_type": "markdown",
   "id": "bd2aeda2-9f64-4cb5-9b32-4212cfa010cf",
   "metadata": {},
   "source": [
    "## Baby Steps towards a BN\n",
    "\n",
    "How do I design it?  I need to experiment. My thoughts are that I can follow a pattern of looking for one letter words\n",
    "and then looking for two letter words and then three and so on.  The Network will get quite large.  Initially doing it by hand may lend itself to figuring out how to do it programatically.\n",
    "\n",
    "# OneLetterWords"
   ]
  },
  {
   "cell_type": "code",
   "execution_count": 3,
   "id": "a560368a-3a28-49c2-b9c9-8834ef2ad96d",
   "metadata": {},
   "outputs": [],
   "source": [
    "# Create Wrapper around the Bayesian Network\n",
    "bn=gum.BayesNet('cryptogram Solver')"
   ]
  },
  {
   "cell_type": "code",
   "execution_count": 4,
   "id": "728559ce-eb60-4a29-8371-73c28e731e35",
   "metadata": {},
   "outputs": [
    {
     "data": {
      "text/html": [
       "<svg xmlns=\"http://www.w3.org/2000/svg\" xmlns:xlink=\"http://www.w3.org/1999/xlink\" width=\"182pt\" height=\"44pt\" viewBox=\"0.00 0.00 182.18 44.00\">\n",
       "<g id=\"graph0\" class=\"graph\" transform=\"scale(1 1) rotate(0) translate(4 40)\">\n",
       "<title>G</title>\n",
       "<!-- OneLetterWords -->\n",
       "<g id=\"node1\" class=\"node\">\n",
       "<title>OneLetterWords</title>\n",
       "<g id=\"a_node1\"><a xlink:title=\"(0) OneLetterWords\">\n",
       "<ellipse fill=\"#404040\" stroke=\"black\" cx=\"87.09\" cy=\"-18\" rx=\"87.18\" ry=\"18\"/>\n",
       "<text text-anchor=\"middle\" x=\"87.09\" y=\"-14.3\" font-family=\"Times,serif\" font-size=\"14.00\" fill=\"white\">OneLetterWords</text>\n",
       "</a>\n",
       "</g>\n",
       "</g>\n",
       "</g>\n",
       "</svg>"
      ],
      "text/plain": [
       "(pyAgrum.BayesNet<double>@0x5572149db9b0) BN{nodes: 1, arcs: 0, domainSize: 2, dim: 2}"
      ]
     },
     "execution_count": 4,
     "metadata": {},
     "output_type": "execute_result"
    }
   ],
   "source": [
    "# Create the startNode\n",
    "bn.add(gum.LabelizedVariable('OneLetterWords','Are there any one letter words?',['A','I']))\n",
    "# Assign Initial Probabilities\n",
    "bn.cpt('OneLetterWords').fillWith([0.5297,0.4703]);\n",
    "bn"
   ]
  },
  {
   "cell_type": "markdown",
   "id": "f5b8d1b0-2fdd-472a-b0f7-aebc0f7326ca",
   "metadata": {},
   "source": [
    "## So Far\n",
    "\n",
    "At the moment we've created the start node.  Once the network is setup we can add follow on nodes.   So lets create a node for twoLetterWords and then connect the two\n",
    "\n",
    "# TwoLetterWords\n",
    "\n",
    "In working through the below cell I thought about using py_enchant"
   ]
  },
  {
   "cell_type": "code",
   "execution_count": 5,
   "id": "8e89c27d-039a-49d4-b076-187bef044ff9",
   "metadata": {},
   "outputs": [
    {
     "name": "stderr",
     "output_type": "stream",
     "text": [
      "<ipython-input-5-aef7141034a4>:15: RuntimeWarning: invalid value encountered in divide\n",
      "  probsA = list(temp_probsA/sum(temp_probsA))\n",
      "<ipython-input-5-aef7141034a4>:16: RuntimeWarning: invalid value encountered in divide\n",
      "  probsI = list(temp_probsI/sum(temp_probsI))\n"
     ]
    }
   ],
   "source": [
    "# Create the startNode\n",
    "\n",
    "tlw = gum.LabelizedVariable('TwoLetterWords','Are there any two letter words?', two_letter_word_frequency)\n",
    "bn.add(tlw)\n",
    "# ['OF','TO','IN','IT','IS','BE','AS','AT','SO','WE','HE','BY','OR','ON','DO','IF','ME','MY', 'UP', 'AN','GO','NO','US', 'AM']\n",
    "# This is really dependent on knowing what character came in. We need to assign 0 probabilities to the ones that begin with a letter we don't know. \n",
    "temp_probsA = [0 for i in range(len(two_letter_word_frequency)) ]\n",
    "temp_probsI = [0 for i in range(len(two_letter_word_frequency))]\n",
    "for i in range(len(two_letter_word_frequency)):\n",
    "    if two_letter_word_frequency[i].startswith('A'):\n",
    "        temp_probsA[i] = letter_frequency[two_letter_word_frequency[i][1]]\n",
    "    elif two_letter_word_frequency[i].startswith('I'):\n",
    "        temp_probsI[i] = letter_frequency[two_letter_word_frequency[i][1]]\n",
    "# Now need to sum the arrays\n",
    "probsA = list(temp_probsA/sum(temp_probsA))\n",
    "probsI = list(temp_probsI/sum(temp_probsI))\n",
    "\n",
    "# Now we have the actual probabilities of the two letter words.  We can go one more once we know if A or I is picked but for initialization we'll just leave it like it is.\n",
    "bn.addArc('OneLetterWords','TwoLetterWords')\n",
    "bn.cpt('TwoLetterWords')[:]= [probsA,probsI]"
   ]
  },
  {
   "cell_type": "code",
   "execution_count": 6,
   "id": "30dbdc6c-71df-456a-a4e2-580f24fece7d",
   "metadata": {},
   "outputs": [
    {
     "data": {
      "text/plain": [
       "[nan,\n",
       " nan,\n",
       " nan,\n",
       " nan,\n",
       " nan,\n",
       " nan,\n",
       " nan,\n",
       " nan,\n",
       " nan,\n",
       " nan,\n",
       " nan,\n",
       " nan,\n",
       " nan,\n",
       " nan,\n",
       " nan,\n",
       " nan,\n",
       " nan,\n",
       " nan,\n",
       " nan,\n",
       " nan,\n",
       " nan,\n",
       " nan,\n",
       " nan,\n",
       " nan]"
      ]
     },
     "execution_count": 6,
     "metadata": {},
     "output_type": "execute_result"
    }
   ],
   "source": [
    "probsA"
   ]
  },
  {
   "cell_type": "code",
   "execution_count": 7,
   "id": "ac993b57-f4d3-4cb6-9fdb-c352ebff3c46",
   "metadata": {},
   "outputs": [
    {
     "data": {
      "text/html": [
       "<table style=\"border:1px solid black;\">\n",
       "<tr style='border:1px solid black;color:black;background-color:#808080'>\n",
       "      <th colspan='2'><center>OneLetterWords</center></th></tr>\n",
       "<tr><th style='border:1px solid black;border-bottom-style: double;color:black;background-color:#BBBBBB'>\n",
       "      <center>A</center></th><th style='border:1px solid black;border-bottom-style: double;color:black;background-color:#BBBBBB'>\n",
       "      <center>I</center></th></tr>\n",
       "<tr><td style='color:black;background-color:#bbc264;text-align:right;'>0.5297</td><td style='color:black;background-color:#c2bb64;text-align:right;'>0.4703</td></tr>\n",
       "</table>"
      ],
      "text/plain": [
       "(pyAgrum.Potential<double>@0x5572145f8de0) \n",
       "  OneLetterWords   |\n",
       "A        |I        |\n",
       "---------|---------|\n",
       " 0.5297  | 0.4703  |"
      ]
     },
     "execution_count": 7,
     "metadata": {},
     "output_type": "execute_result"
    }
   ],
   "source": [
    "bn.cpt(\"OneLetterWords\")"
   ]
  },
  {
   "cell_type": "code",
   "execution_count": 8,
   "id": "373a69ca-820d-4f3e-bc15-106ba3bf2ec9",
   "metadata": {},
   "outputs": [
    {
     "data": {
      "text/html": [
       "<table style=\"border:1px solid black;\">\n",
       "<tr><th colspan='1'></th>\n",
       "      <th colspan='24' style='border:1px solid black;color:black;background-color:#808080;'><center>TwoLetterWords</center>\n",
       "      </th></tr>\n",
       "<tr><th style='border:1px solid black;color:black;background-color:#808080'><center>OneLetterWords</center></th><th style='border:1px solid black;border-bottom-style: double;color:black;background-color:#BBBBBB'>\n",
       "      <center>of</center></th><th style='border:1px solid black;border-bottom-style: double;color:black;background-color:#BBBBBB'>\n",
       "      <center>to</center></th><th style='border:1px solid black;border-bottom-style: double;color:black;background-color:#BBBBBB'>\n",
       "      <center>in</center></th><th style='border:1px solid black;border-bottom-style: double;color:black;background-color:#BBBBBB'>\n",
       "      <center>it</center></th><th style='border:1px solid black;border-bottom-style: double;color:black;background-color:#BBBBBB'>\n",
       "      <center>is</center></th><th style='border:1px solid black;border-bottom-style: double;color:black;background-color:#BBBBBB'>\n",
       "      <center>me</center></th><th style='border:1px solid black;border-bottom-style: double;color:black;background-color:#BBBBBB'>\n",
       "      <center>be</center></th><th style='border:1px solid black;border-bottom-style: double;color:black;background-color:#BBBBBB'>\n",
       "      <center>as</center></th><th style='border:1px solid black;border-bottom-style: double;color:black;background-color:#BBBBBB'>\n",
       "      <center>at</center></th><th style='border:1px solid black;border-bottom-style: double;color:black;background-color:#BBBBBB'>\n",
       "      <center>so</center></th><th style='border:1px solid black;border-bottom-style: double;color:black;background-color:#BBBBBB'>\n",
       "      <center>we</center></th><th style='border:1px solid black;border-bottom-style: double;color:black;background-color:#BBBBBB'>\n",
       "      <center>us</center></th><th style='border:1px solid black;border-bottom-style: double;color:black;background-color:#BBBBBB'>\n",
       "      <center>he</center></th><th style='border:1px solid black;border-bottom-style: double;color:black;background-color:#BBBBBB'>\n",
       "      <center>by</center></th><th style='border:1px solid black;border-bottom-style: double;color:black;background-color:#BBBBBB'>\n",
       "      <center>or</center></th><th style='border:1px solid black;border-bottom-style: double;color:black;background-color:#BBBBBB'>\n",
       "      <center>on</center></th><th style='border:1px solid black;border-bottom-style: double;color:black;background-color:#BBBBBB'>\n",
       "      <center>do</center></th><th style='border:1px solid black;border-bottom-style: double;color:black;background-color:#BBBBBB'>\n",
       "      <center>if</center></th><th style='border:1px solid black;border-bottom-style: double;color:black;background-color:#BBBBBB'>\n",
       "      <center>my</center></th><th style='border:1px solid black;border-bottom-style: double;color:black;background-color:#BBBBBB'>\n",
       "      <center>up</center></th><th style='border:1px solid black;border-bottom-style: double;color:black;background-color:#BBBBBB'>\n",
       "      <center>an</center></th><th style='border:1px solid black;border-bottom-style: double;color:black;background-color:#BBBBBB'>\n",
       "      <center>go</center></th><th style='border:1px solid black;border-bottom-style: double;color:black;background-color:#BBBBBB'>\n",
       "      <center>no</center></th><th style='border:1px solid black;border-bottom-style: double;color:black;background-color:#BBBBBB'>\n",
       "      <center>am</center></th></tr>\n",
       "<tr><th style='border:1px solid black;color:black;background-color:#BBBBBB'><center>A</center></th><td style='text-align:right;'>nan</td><td style='text-align:right;'>nan</td><td style='text-align:right;'>nan</td><td style='text-align:right;'>nan</td><td style='text-align:right;'>nan</td><td style='text-align:right;'>nan</td><td style='text-align:right;'>nan</td><td style='text-align:right;'>nan</td><td style='text-align:right;'>nan</td><td style='text-align:right;'>nan</td><td style='text-align:right;'>nan</td><td style='text-align:right;'>nan</td><td style='text-align:right;'>nan</td><td style='text-align:right;'>nan</td><td style='text-align:right;'>nan</td><td style='text-align:right;'>nan</td><td style='text-align:right;'>nan</td><td style='text-align:right;'>nan</td><td style='text-align:right;'>nan</td><td style='text-align:right;'>nan</td><td style='text-align:right;'>nan</td><td style='text-align:right;'>nan</td><td style='text-align:right;'>nan</td><td style='text-align:right;'>nan</td></tr>\n",
       "<tr><th style='border:1px solid black;color:black;background-color:#BBBBBB'><center>I</center></th><td style='text-align:right;'>nan</td><td style='text-align:right;'>nan</td><td style='text-align:right;'>nan</td><td style='text-align:right;'>nan</td><td style='text-align:right;'>nan</td><td style='text-align:right;'>nan</td><td style='text-align:right;'>nan</td><td style='text-align:right;'>nan</td><td style='text-align:right;'>nan</td><td style='text-align:right;'>nan</td><td style='text-align:right;'>nan</td><td style='text-align:right;'>nan</td><td style='text-align:right;'>nan</td><td style='text-align:right;'>nan</td><td style='text-align:right;'>nan</td><td style='text-align:right;'>nan</td><td style='text-align:right;'>nan</td><td style='text-align:right;'>nan</td><td style='text-align:right;'>nan</td><td style='text-align:right;'>nan</td><td style='text-align:right;'>nan</td><td style='text-align:right;'>nan</td><td style='text-align:right;'>nan</td><td style='text-align:right;'>nan</td></tr>\n",
       "</table>"
      ],
      "text/plain": [
       "(pyAgrum.Potential<double>@0x5572149c24e0) \n",
       "      ||  TwoLetterWords                                                                                                                                                                                                                               |\n",
       "OneLet||of       |to       |in       |it       |is       |me       |be       |as       |at       |so       |we       |us       |he       |by       |or       |on       |do       |if       |my       |up       |an       |go       |no       |am       |\n",
       "------||---------|---------|---------|---------|---------|---------|---------|---------|---------|---------|---------|---------|---------|---------|---------|---------|---------|---------|---------|---------|---------|---------|---------|---------|\n",
       "A     || -nan    | -nan    | -nan    | -nan    | -nan    | -nan    | -nan    | -nan    | -nan    | -nan    | -nan    | -nan    | -nan    | -nan    | -nan    | -nan    | -nan    | -nan    | -nan    | -nan    | -nan    | -nan    | -nan    | -nan    |\n",
       "I     || -nan    | -nan    | -nan    | -nan    | -nan    | -nan    | -nan    | -nan    | -nan    | -nan    | -nan    | -nan    | -nan    | -nan    | -nan    | -nan    | -nan    | -nan    | -nan    | -nan    | -nan    | -nan    | -nan    | -nan    |"
      ]
     },
     "execution_count": 8,
     "metadata": {},
     "output_type": "execute_result"
    }
   ],
   "source": [
    "bn.cpt(\"TwoLetterWords\")"
   ]
  },
  {
   "cell_type": "markdown",
   "id": "5bc85e79-0a7c-481f-8807-e49080215a4f",
   "metadata": {},
   "source": [
    "# Now Do Inference\n",
    "\n",
    "This uses the LazyPropogation *\"an exact inference method that transforms the Bayesian network into a hypergraph called a join tree or a junction tree. This tree is constructed in order to optimize inference computations.\"*"
   ]
  },
  {
   "cell_type": "code",
   "execution_count": 9,
   "id": "8c3f411d-4ec7-4e62-b3b9-a858e79d3539",
   "metadata": {},
   "outputs": [],
   "source": [
    "ie=gum.LazyPropagation(bn)"
   ]
  },
  {
   "cell_type": "code",
   "execution_count": 10,
   "id": "f9dc5bd3-0204-46f5-bad9-28463c6459b7",
   "metadata": {},
   "outputs": [
    {
     "name": "stderr",
     "output_type": "stream",
     "text": [
      "/home/asheller/anaconda3/envs/reynard/lib/python3.8/site-packages/matplotlib/ticker.py:2073: RuntimeWarning: overflow encountered in multiply\n",
      "  steps = self._extended_steps * scale\n",
      "/home/asheller/anaconda3/envs/reynard/lib/python3.8/site-packages/matplotlib/ticker.py:2097: RuntimeWarning: overflow encountered in double_scalars\n",
      "  best_vmin = (_vmin // step) * step\n",
      "/home/asheller/anaconda3/envs/reynard/lib/python3.8/site-packages/matplotlib/ticker.py:1921: RuntimeWarning: invalid value encountered in double_scalars\n",
      "  d, m = divmod(x, self.step)\n",
      "/home/asheller/anaconda3/envs/reynard/lib/python3.8/site-packages/matplotlib/ticker.py:1928: RuntimeWarning: invalid value encountered in double_scalars\n",
      "  d, m = divmod(x, self.step)\n"
     ]
    },
    {
     "ename": "ValueError",
     "evalue": "arange: cannot compute length",
     "output_type": "error",
     "traceback": [
      "\u001b[0;31m---------------------------------------------------------------------------\u001b[0m",
      "\u001b[0;31mValueError\u001b[0m                                Traceback (most recent call last)",
      "Input \u001b[0;32mIn [10]\u001b[0m, in \u001b[0;36m<cell line: 2>\u001b[0;34m()\u001b[0m\n\u001b[1;32m      1\u001b[0m ie\u001b[38;5;241m.\u001b[39mmakeInference()\n\u001b[0;32m----> 2\u001b[0m \u001b[43mgnb\u001b[49m\u001b[38;5;241;43m.\u001b[39;49m\u001b[43mshowProba\u001b[49m\u001b[43m(\u001b[49m\u001b[43mie\u001b[49m\u001b[38;5;241;43m.\u001b[39;49m\u001b[43mposterior\u001b[49m\u001b[43m(\u001b[49m\u001b[38;5;124;43m\"\u001b[39;49m\u001b[38;5;124;43mTwoLetterWords\u001b[39;49m\u001b[38;5;124;43m\"\u001b[39;49m\u001b[43m)\u001b[49m\u001b[43m)\u001b[49m\n",
      "File \u001b[0;32m~/anaconda3/envs/reynard/lib/python3.8/site-packages/pyAgrum/lib/notebook.py:557\u001b[0m, in \u001b[0;36mshowProba\u001b[0;34m(p, scale)\u001b[0m\n\u001b[1;32m    555\u001b[0m fig \u001b[38;5;241m=\u001b[39m proba2histo(p, scale)\n\u001b[1;32m    556\u001b[0m set_matplotlib_formats(gum\u001b[38;5;241m.\u001b[39mconfig[\u001b[38;5;124m\"\u001b[39m\u001b[38;5;124mnotebook\u001b[39m\u001b[38;5;124m\"\u001b[39m, \u001b[38;5;124m\"\u001b[39m\u001b[38;5;124mgraph_format\u001b[39m\u001b[38;5;124m\"\u001b[39m])\n\u001b[0;32m--> 557\u001b[0m \u001b[43mplt\u001b[49m\u001b[38;5;241;43m.\u001b[39;49m\u001b[43mshow\u001b[49m\u001b[43m(\u001b[49m\u001b[43m)\u001b[49m\n",
      "File \u001b[0;32m~/anaconda3/envs/reynard/lib/python3.8/site-packages/matplotlib/pyplot.py:389\u001b[0m, in \u001b[0;36mshow\u001b[0;34m(*args, **kwargs)\u001b[0m\n\u001b[1;32m    345\u001b[0m \u001b[38;5;124;03m\"\"\"\u001b[39;00m\n\u001b[1;32m    346\u001b[0m \u001b[38;5;124;03mDisplay all open figures.\u001b[39;00m\n\u001b[1;32m    347\u001b[0m \n\u001b[0;32m   (...)\u001b[0m\n\u001b[1;32m    386\u001b[0m \u001b[38;5;124;03mexplicitly there.\u001b[39;00m\n\u001b[1;32m    387\u001b[0m \u001b[38;5;124;03m\"\"\"\u001b[39;00m\n\u001b[1;32m    388\u001b[0m _warn_if_gui_out_of_main_thread()\n\u001b[0;32m--> 389\u001b[0m \u001b[38;5;28;01mreturn\u001b[39;00m \u001b[43m_get_backend_mod\u001b[49m\u001b[43m(\u001b[49m\u001b[43m)\u001b[49m\u001b[38;5;241;43m.\u001b[39;49m\u001b[43mshow\u001b[49m\u001b[43m(\u001b[49m\u001b[38;5;241;43m*\u001b[39;49m\u001b[43margs\u001b[49m\u001b[43m,\u001b[49m\u001b[43m \u001b[49m\u001b[38;5;241;43m*\u001b[39;49m\u001b[38;5;241;43m*\u001b[39;49m\u001b[43mkwargs\u001b[49m\u001b[43m)\u001b[49m\n",
      "File \u001b[0;32m~/anaconda3/envs/reynard/lib/python3.8/site-packages/ipykernel/pylab/backend_inline.py:42\u001b[0m, in \u001b[0;36mshow\u001b[0;34m(close, block)\u001b[0m\n\u001b[1;32m     38\u001b[0m \u001b[38;5;28;01mtry\u001b[39;00m:\n\u001b[1;32m     39\u001b[0m     \u001b[38;5;28;01mfor\u001b[39;00m figure_manager \u001b[38;5;129;01min\u001b[39;00m Gcf\u001b[38;5;241m.\u001b[39mget_all_fig_managers():\n\u001b[1;32m     40\u001b[0m         display(\n\u001b[1;32m     41\u001b[0m             figure_manager\u001b[38;5;241m.\u001b[39mcanvas\u001b[38;5;241m.\u001b[39mfigure,\n\u001b[0;32m---> 42\u001b[0m             metadata\u001b[38;5;241m=\u001b[39m\u001b[43m_fetch_figure_metadata\u001b[49m\u001b[43m(\u001b[49m\u001b[43mfigure_manager\u001b[49m\u001b[38;5;241;43m.\u001b[39;49m\u001b[43mcanvas\u001b[49m\u001b[38;5;241;43m.\u001b[39;49m\u001b[43mfigure\u001b[49m\u001b[43m)\u001b[49m\n\u001b[1;32m     43\u001b[0m         )\n\u001b[1;32m     44\u001b[0m \u001b[38;5;28;01mfinally\u001b[39;00m:\n\u001b[1;32m     45\u001b[0m     show\u001b[38;5;241m.\u001b[39m_to_draw \u001b[38;5;241m=\u001b[39m []\n",
      "File \u001b[0;32m~/anaconda3/envs/reynard/lib/python3.8/site-packages/ipykernel/pylab/backend_inline.py:228\u001b[0m, in \u001b[0;36m_fetch_figure_metadata\u001b[0;34m(fig)\u001b[0m\n\u001b[1;32m    225\u001b[0m \u001b[38;5;66;03m# determine if a background is needed for legibility\u001b[39;00m\n\u001b[1;32m    226\u001b[0m \u001b[38;5;28;01mif\u001b[39;00m _is_transparent(fig\u001b[38;5;241m.\u001b[39mget_facecolor()):\n\u001b[1;32m    227\u001b[0m     \u001b[38;5;66;03m# the background is transparent\u001b[39;00m\n\u001b[0;32m--> 228\u001b[0m     ticksLight \u001b[38;5;241m=\u001b[39m _is_light([label\u001b[38;5;241m.\u001b[39mget_color()\n\u001b[1;32m    229\u001b[0m                             \u001b[38;5;28;01mfor\u001b[39;00m axes \u001b[38;5;129;01min\u001b[39;00m fig\u001b[38;5;241m.\u001b[39maxes\n\u001b[1;32m    230\u001b[0m                             \u001b[38;5;28;01mfor\u001b[39;00m axis \u001b[38;5;129;01min\u001b[39;00m (axes\u001b[38;5;241m.\u001b[39mxaxis, axes\u001b[38;5;241m.\u001b[39myaxis)\n\u001b[1;32m    231\u001b[0m                             \u001b[38;5;28;01mfor\u001b[39;00m label \u001b[38;5;129;01min\u001b[39;00m axis\u001b[38;5;241m.\u001b[39mget_ticklabels()])\n\u001b[1;32m    232\u001b[0m     \u001b[38;5;28;01mif\u001b[39;00m ticksLight\u001b[38;5;241m.\u001b[39msize \u001b[38;5;129;01mand\u001b[39;00m (ticksLight \u001b[38;5;241m==\u001b[39m ticksLight[\u001b[38;5;241m0\u001b[39m])\u001b[38;5;241m.\u001b[39mall():\n\u001b[1;32m    233\u001b[0m         \u001b[38;5;66;03m# there are one or more tick labels, all with the same lightness\u001b[39;00m\n\u001b[1;32m    234\u001b[0m         \u001b[38;5;28;01mreturn\u001b[39;00m {\u001b[38;5;124m'\u001b[39m\u001b[38;5;124mneeds_background\u001b[39m\u001b[38;5;124m'\u001b[39m: \u001b[38;5;124m'\u001b[39m\u001b[38;5;124mdark\u001b[39m\u001b[38;5;124m'\u001b[39m \u001b[38;5;28;01mif\u001b[39;00m ticksLight[\u001b[38;5;241m0\u001b[39m] \u001b[38;5;28;01melse\u001b[39;00m \u001b[38;5;124m'\u001b[39m\u001b[38;5;124mlight\u001b[39m\u001b[38;5;124m'\u001b[39m}\n",
      "File \u001b[0;32m~/anaconda3/envs/reynard/lib/python3.8/site-packages/ipykernel/pylab/backend_inline.py:231\u001b[0m, in \u001b[0;36m<listcomp>\u001b[0;34m(.0)\u001b[0m\n\u001b[1;32m    225\u001b[0m \u001b[38;5;66;03m# determine if a background is needed for legibility\u001b[39;00m\n\u001b[1;32m    226\u001b[0m \u001b[38;5;28;01mif\u001b[39;00m _is_transparent(fig\u001b[38;5;241m.\u001b[39mget_facecolor()):\n\u001b[1;32m    227\u001b[0m     \u001b[38;5;66;03m# the background is transparent\u001b[39;00m\n\u001b[1;32m    228\u001b[0m     ticksLight \u001b[38;5;241m=\u001b[39m _is_light([label\u001b[38;5;241m.\u001b[39mget_color()\n\u001b[1;32m    229\u001b[0m                             \u001b[38;5;28;01mfor\u001b[39;00m axes \u001b[38;5;129;01min\u001b[39;00m fig\u001b[38;5;241m.\u001b[39maxes\n\u001b[1;32m    230\u001b[0m                             \u001b[38;5;28;01mfor\u001b[39;00m axis \u001b[38;5;129;01min\u001b[39;00m (axes\u001b[38;5;241m.\u001b[39mxaxis, axes\u001b[38;5;241m.\u001b[39myaxis)\n\u001b[0;32m--> 231\u001b[0m                             \u001b[38;5;28;01mfor\u001b[39;00m label \u001b[38;5;129;01min\u001b[39;00m \u001b[43maxis\u001b[49m\u001b[38;5;241;43m.\u001b[39;49m\u001b[43mget_ticklabels\u001b[49m\u001b[43m(\u001b[49m\u001b[43m)\u001b[49m])\n\u001b[1;32m    232\u001b[0m     \u001b[38;5;28;01mif\u001b[39;00m ticksLight\u001b[38;5;241m.\u001b[39msize \u001b[38;5;129;01mand\u001b[39;00m (ticksLight \u001b[38;5;241m==\u001b[39m ticksLight[\u001b[38;5;241m0\u001b[39m])\u001b[38;5;241m.\u001b[39mall():\n\u001b[1;32m    233\u001b[0m         \u001b[38;5;66;03m# there are one or more tick labels, all with the same lightness\u001b[39;00m\n\u001b[1;32m    234\u001b[0m         \u001b[38;5;28;01mreturn\u001b[39;00m {\u001b[38;5;124m'\u001b[39m\u001b[38;5;124mneeds_background\u001b[39m\u001b[38;5;124m'\u001b[39m: \u001b[38;5;124m'\u001b[39m\u001b[38;5;124mdark\u001b[39m\u001b[38;5;124m'\u001b[39m \u001b[38;5;28;01mif\u001b[39;00m ticksLight[\u001b[38;5;241m0\u001b[39m] \u001b[38;5;28;01melse\u001b[39;00m \u001b[38;5;124m'\u001b[39m\u001b[38;5;124mlight\u001b[39m\u001b[38;5;124m'\u001b[39m}\n",
      "File \u001b[0;32m~/anaconda3/envs/reynard/lib/python3.8/site-packages/matplotlib/axis.py:1249\u001b[0m, in \u001b[0;36mAxis.get_ticklabels\u001b[0;34m(self, minor, which)\u001b[0m\n\u001b[1;32m   1247\u001b[0m \u001b[38;5;28;01mif\u001b[39;00m minor:\n\u001b[1;32m   1248\u001b[0m     \u001b[38;5;28;01mreturn\u001b[39;00m \u001b[38;5;28mself\u001b[39m\u001b[38;5;241m.\u001b[39mget_minorticklabels()\n\u001b[0;32m-> 1249\u001b[0m \u001b[38;5;28;01mreturn\u001b[39;00m \u001b[38;5;28;43mself\u001b[39;49m\u001b[38;5;241;43m.\u001b[39;49m\u001b[43mget_majorticklabels\u001b[49m\u001b[43m(\u001b[49m\u001b[43m)\u001b[49m\n",
      "File \u001b[0;32m~/anaconda3/envs/reynard/lib/python3.8/site-packages/matplotlib/axis.py:1201\u001b[0m, in \u001b[0;36mAxis.get_majorticklabels\u001b[0;34m(self)\u001b[0m\n\u001b[1;32m   1199\u001b[0m \u001b[38;5;28;01mdef\u001b[39;00m \u001b[38;5;21mget_majorticklabels\u001b[39m(\u001b[38;5;28mself\u001b[39m):\n\u001b[1;32m   1200\u001b[0m     \u001b[38;5;124;03m\"\"\"Return this Axis' major tick labels, as a list of `~.text.Text`.\"\"\"\u001b[39;00m\n\u001b[0;32m-> 1201\u001b[0m     ticks \u001b[38;5;241m=\u001b[39m \u001b[38;5;28;43mself\u001b[39;49m\u001b[38;5;241;43m.\u001b[39;49m\u001b[43mget_major_ticks\u001b[49m\u001b[43m(\u001b[49m\u001b[43m)\u001b[49m\n\u001b[1;32m   1202\u001b[0m     labels1 \u001b[38;5;241m=\u001b[39m [tick\u001b[38;5;241m.\u001b[39mlabel1 \u001b[38;5;28;01mfor\u001b[39;00m tick \u001b[38;5;129;01min\u001b[39;00m ticks \u001b[38;5;28;01mif\u001b[39;00m tick\u001b[38;5;241m.\u001b[39mlabel1\u001b[38;5;241m.\u001b[39mget_visible()]\n\u001b[1;32m   1203\u001b[0m     labels2 \u001b[38;5;241m=\u001b[39m [tick\u001b[38;5;241m.\u001b[39mlabel2 \u001b[38;5;28;01mfor\u001b[39;00m tick \u001b[38;5;129;01min\u001b[39;00m ticks \u001b[38;5;28;01mif\u001b[39;00m tick\u001b[38;5;241m.\u001b[39mlabel2\u001b[38;5;241m.\u001b[39mget_visible()]\n",
      "File \u001b[0;32m~/anaconda3/envs/reynard/lib/python3.8/site-packages/matplotlib/axis.py:1371\u001b[0m, in \u001b[0;36mAxis.get_major_ticks\u001b[0;34m(self, numticks)\u001b[0m\n\u001b[1;32m   1369\u001b[0m \u001b[38;5;124mr\u001b[39m\u001b[38;5;124;03m\"\"\"Return the list of major `.Tick`\\s.\"\"\"\u001b[39;00m\n\u001b[1;32m   1370\u001b[0m \u001b[38;5;28;01mif\u001b[39;00m numticks \u001b[38;5;129;01mis\u001b[39;00m \u001b[38;5;28;01mNone\u001b[39;00m:\n\u001b[0;32m-> 1371\u001b[0m     numticks \u001b[38;5;241m=\u001b[39m \u001b[38;5;28mlen\u001b[39m(\u001b[38;5;28;43mself\u001b[39;49m\u001b[38;5;241;43m.\u001b[39;49m\u001b[43mget_majorticklocs\u001b[49m\u001b[43m(\u001b[49m\u001b[43m)\u001b[49m)\n\u001b[1;32m   1373\u001b[0m \u001b[38;5;28;01mwhile\u001b[39;00m \u001b[38;5;28mlen\u001b[39m(\u001b[38;5;28mself\u001b[39m\u001b[38;5;241m.\u001b[39mmajorTicks) \u001b[38;5;241m<\u001b[39m numticks:\n\u001b[1;32m   1374\u001b[0m     \u001b[38;5;66;03m# Update the new tick label properties from the old.\u001b[39;00m\n\u001b[1;32m   1375\u001b[0m     tick \u001b[38;5;241m=\u001b[39m \u001b[38;5;28mself\u001b[39m\u001b[38;5;241m.\u001b[39m_get_tick(major\u001b[38;5;241m=\u001b[39m\u001b[38;5;28;01mTrue\u001b[39;00m)\n",
      "File \u001b[0;32m~/anaconda3/envs/reynard/lib/python3.8/site-packages/matplotlib/axis.py:1277\u001b[0m, in \u001b[0;36mAxis.get_majorticklocs\u001b[0;34m(self)\u001b[0m\n\u001b[1;32m   1275\u001b[0m \u001b[38;5;28;01mdef\u001b[39;00m \u001b[38;5;21mget_majorticklocs\u001b[39m(\u001b[38;5;28mself\u001b[39m):\n\u001b[1;32m   1276\u001b[0m     \u001b[38;5;124;03m\"\"\"Return this Axis' major tick locations in data coordinates.\"\"\"\u001b[39;00m\n\u001b[0;32m-> 1277\u001b[0m     \u001b[38;5;28;01mreturn\u001b[39;00m \u001b[38;5;28;43mself\u001b[39;49m\u001b[38;5;241;43m.\u001b[39;49m\u001b[43mmajor\u001b[49m\u001b[38;5;241;43m.\u001b[39;49m\u001b[43mlocator\u001b[49m\u001b[43m(\u001b[49m\u001b[43m)\u001b[49m\n",
      "File \u001b[0;32m~/anaconda3/envs/reynard/lib/python3.8/site-packages/matplotlib/ticker.py:2115\u001b[0m, in \u001b[0;36mMaxNLocator.__call__\u001b[0;34m(self)\u001b[0m\n\u001b[1;32m   2113\u001b[0m \u001b[38;5;28;01mdef\u001b[39;00m \u001b[38;5;21m__call__\u001b[39m(\u001b[38;5;28mself\u001b[39m):\n\u001b[1;32m   2114\u001b[0m     vmin, vmax \u001b[38;5;241m=\u001b[39m \u001b[38;5;28mself\u001b[39m\u001b[38;5;241m.\u001b[39maxis\u001b[38;5;241m.\u001b[39mget_view_interval()\n\u001b[0;32m-> 2115\u001b[0m     \u001b[38;5;28;01mreturn\u001b[39;00m \u001b[38;5;28;43mself\u001b[39;49m\u001b[38;5;241;43m.\u001b[39;49m\u001b[43mtick_values\u001b[49m\u001b[43m(\u001b[49m\u001b[43mvmin\u001b[49m\u001b[43m,\u001b[49m\u001b[43m \u001b[49m\u001b[43mvmax\u001b[49m\u001b[43m)\u001b[49m\n",
      "File \u001b[0;32m~/anaconda3/envs/reynard/lib/python3.8/site-packages/matplotlib/ticker.py:2123\u001b[0m, in \u001b[0;36mMaxNLocator.tick_values\u001b[0;34m(self, vmin, vmax)\u001b[0m\n\u001b[1;32m   2120\u001b[0m     vmin \u001b[38;5;241m=\u001b[39m \u001b[38;5;241m-\u001b[39mvmax\n\u001b[1;32m   2121\u001b[0m vmin, vmax \u001b[38;5;241m=\u001b[39m mtransforms\u001b[38;5;241m.\u001b[39mnonsingular(\n\u001b[1;32m   2122\u001b[0m     vmin, vmax, expander\u001b[38;5;241m=\u001b[39m\u001b[38;5;241m1e-13\u001b[39m, tiny\u001b[38;5;241m=\u001b[39m\u001b[38;5;241m1e-14\u001b[39m)\n\u001b[0;32m-> 2123\u001b[0m locs \u001b[38;5;241m=\u001b[39m \u001b[38;5;28;43mself\u001b[39;49m\u001b[38;5;241;43m.\u001b[39;49m\u001b[43m_raw_ticks\u001b[49m\u001b[43m(\u001b[49m\u001b[43mvmin\u001b[49m\u001b[43m,\u001b[49m\u001b[43m \u001b[49m\u001b[43mvmax\u001b[49m\u001b[43m)\u001b[49m\n\u001b[1;32m   2125\u001b[0m prune \u001b[38;5;241m=\u001b[39m \u001b[38;5;28mself\u001b[39m\u001b[38;5;241m.\u001b[39m_prune\n\u001b[1;32m   2126\u001b[0m \u001b[38;5;28;01mif\u001b[39;00m prune \u001b[38;5;241m==\u001b[39m \u001b[38;5;124m'\u001b[39m\u001b[38;5;124mlower\u001b[39m\u001b[38;5;124m'\u001b[39m:\n",
      "File \u001b[0;32m~/anaconda3/envs/reynard/lib/python3.8/site-packages/matplotlib/ticker.py:2106\u001b[0m, in \u001b[0;36mMaxNLocator._raw_ticks\u001b[0;34m(self, vmin, vmax)\u001b[0m\n\u001b[1;32m   2104\u001b[0m low \u001b[38;5;241m=\u001b[39m edge\u001b[38;5;241m.\u001b[39mle(_vmin \u001b[38;5;241m-\u001b[39m best_vmin)\n\u001b[1;32m   2105\u001b[0m high \u001b[38;5;241m=\u001b[39m edge\u001b[38;5;241m.\u001b[39mge(_vmax \u001b[38;5;241m-\u001b[39m best_vmin)\n\u001b[0;32m-> 2106\u001b[0m ticks \u001b[38;5;241m=\u001b[39m \u001b[43mnp\u001b[49m\u001b[38;5;241;43m.\u001b[39;49m\u001b[43marange\u001b[49m\u001b[43m(\u001b[49m\u001b[43mlow\u001b[49m\u001b[43m,\u001b[49m\u001b[43m \u001b[49m\u001b[43mhigh\u001b[49m\u001b[43m \u001b[49m\u001b[38;5;241;43m+\u001b[39;49m\u001b[43m \u001b[49m\u001b[38;5;241;43m1\u001b[39;49m\u001b[43m)\u001b[49m \u001b[38;5;241m*\u001b[39m step \u001b[38;5;241m+\u001b[39m best_vmin\n\u001b[1;32m   2107\u001b[0m \u001b[38;5;66;03m# Count only the ticks that will be displayed.\u001b[39;00m\n\u001b[1;32m   2108\u001b[0m nticks \u001b[38;5;241m=\u001b[39m ((ticks \u001b[38;5;241m<\u001b[39m\u001b[38;5;241m=\u001b[39m _vmax) \u001b[38;5;241m&\u001b[39m (ticks \u001b[38;5;241m>\u001b[39m\u001b[38;5;241m=\u001b[39m _vmin))\u001b[38;5;241m.\u001b[39msum()\n",
      "\u001b[0;31mValueError\u001b[0m: arange: cannot compute length"
     ]
    }
   ],
   "source": [
    "ie.makeInference()\n",
    "gnb.showProba(ie.posterior(\"TwoLetterWords\"))"
   ]
  },
  {
   "cell_type": "code",
   "execution_count": null,
   "id": "c8d50a18-910f-41fb-9e89-4d0581de89ca",
   "metadata": {},
   "outputs": [],
   "source": [
    "gnb.showInference(bn,evs={})"
   ]
  },
  {
   "cell_type": "markdown",
   "id": "22b830c4-4dad-43dd-8016-cdfb7ee94e7c",
   "metadata": {},
   "source": [
    "## Now lets set the OneLetterWord to A"
   ]
  },
  {
   "cell_type": "code",
   "execution_count": null,
   "id": "06e979d0-89c7-4afa-b15b-5ac71b8d3940",
   "metadata": {},
   "outputs": [],
   "source": [
    "ie.setEvidence({\"OneLetterWords\":[1.0,0.0]})\n",
    "ie.makeInference()\n",
    "ie.posterior(\"TwoLetterWords\")"
   ]
  },
  {
   "cell_type": "code",
   "execution_count": null,
   "id": "6870e58e-8a4e-4734-a195-f31059fc6552",
   "metadata": {},
   "outputs": [],
   "source": [
    "gnb.showProba(ie.posterior(\"TwoLetterWords\"))"
   ]
  },
  {
   "cell_type": "code",
   "execution_count": null,
   "id": "cc65affb-72bc-4bc0-9369-040f743bb436",
   "metadata": {},
   "outputs": [],
   "source": [
    "print()\n",
    "print(\"Word Suggestion is {} with probability of {}.\".format(two_letter_word_frequency[ie.posterior(\"TwoLetterWords\")[:].argmax()],ie.posterior(\"TwoLetterWords\")[:][ie.posterior(\"TwoLetterWords\")[:].argmax()]))"
   ]
  },
  {
   "cell_type": "code",
   "execution_count": null,
   "id": "25c134d3-6629-49e3-b89f-fce5c1ad3fae",
   "metadata": {},
   "outputs": [],
   "source": [
    "]"
   ]
  },
  {
   "cell_type": "code",
   "execution_count": null,
   "id": "704c37a4-c68e-4e35-a9d5-6f6408abef02",
   "metadata": {},
   "outputs": [],
   "source": []
  }
 ],
 "metadata": {
  "kernelspec": {
   "display_name": "Python 3",
   "language": "python",
   "name": "python3"
  },
  "language_info": {
   "codemirror_mode": {
    "name": "ipython",
    "version": 3
   },
   "file_extension": ".py",
   "mimetype": "text/x-python",
   "name": "python",
   "nbconvert_exporter": "python",
   "pygments_lexer": "ipython3",
   "version": "3.8.10"
  }
 },
 "nbformat": 4,
 "nbformat_minor": 5
}
