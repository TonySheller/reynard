{
 "cells": [
  {
   "cell_type": "markdown",
   "id": "8a87ecf4-d3ae-4080-9931-c72e1a8940ef",
   "metadata": {},
   "source": [
    "# Intended to explore the possibilities of using Monte Carlo Tree Search as part of the solution\n",
    "\n",
    "## Overview\n",
    "In the past, I've coded the minimax algorithm to solve tictactoe as well as the A* search algorithm to find the best path through a maze.   I've also worked with agents on assignments so in studying reasoning under uncertainty I wanted to try to use Bayesian networks or Decision networks (based on Bayesian Networks), However the programmming \n",
    "\n",
    "Reference for this work:\n",
    "https://github.com/pbsinclair42/MCTS/blob/master/naughtsandcrosses.py\n"
   ]
  },
  {
   "cell_type": "code",
   "execution_count": 1,
   "id": "9bd5fd2a-28eb-4a97-b223-fb69cf46c5e8",
   "metadata": {},
   "outputs": [],
   "source": [
    "from __future__ import division\n",
    "\n",
    "from copy import deepcopy\n",
    "from functools import reduce\n",
    "import operator\n",
    "# This lets me import the Python modules from the directory below this one\n",
    "import sys\n",
    "sys.path.insert(0, '../../reynard')\n",
    "from puzzle import Puzzle"
   ]
  },
  {
   "cell_type": "code",
   "execution_count": 2,
   "id": "75581e95-3792-4426-b957-68fa0a416fe8",
   "metadata": {},
   "outputs": [
    {
     "ename": "ModuleNotFoundError",
     "evalue": "No module named 'mcts'",
     "output_type": "error",
     "traceback": [
      "\u001b[0;31m---------------------------------------------------------------------------\u001b[0m",
      "\u001b[0;31mModuleNotFoundError\u001b[0m                       Traceback (most recent call last)",
      "Input \u001b[0;32mIn [2]\u001b[0m, in \u001b[0;36m<cell line: 2>\u001b[0;34m()\u001b[0m\n\u001b[1;32m      1\u001b[0m \u001b[38;5;66;03m# Define a class to play the game.\u001b[39;00m\n\u001b[0;32m----> 2\u001b[0m \u001b[38;5;28;01mfrom\u001b[39;00m \u001b[38;5;21;01mmcts\u001b[39;00m \u001b[38;5;28;01mimport\u001b[39;00m mcts\n",
      "\u001b[0;31mModuleNotFoundError\u001b[0m: No module named 'mcts'"
     ]
    }
   ],
   "source": [
    "# Define a class to play the game.\n",
    "from mcts import mcts"
   ]
  },
  {
   "cell_type": "code",
   "execution_count": null,
   "id": "975088d9-6bd8-4920-8551-82240797ae63",
   "metadata": {},
   "outputs": [],
   "source": []
  },
  {
   "cell_type": "code",
   "execution_count": null,
   "id": "5ffc01d2-71a6-4c29-89f3-34044725409c",
   "metadata": {},
   "outputs": [],
   "source": []
  },
  {
   "cell_type": "code",
   "execution_count": null,
   "id": "771978f8-1498-4899-9abc-0d0fff111489",
   "metadata": {},
   "outputs": [],
   "source": [
    "class CryptogramState:\n",
    "    '''\n",
    "    To use the mcts module this class needs to be defined \n",
    "    '''\n",
    "    def __init__(self,puzzle=None):\n",
    "        '''\n",
    "        Constructor Need to\n",
    "        '''\n",
    "        self.board = [[0, 0, 0], [0, 0, 0], [0, 0, 0]]\n",
    "        self.currentPlayer = 1\n",
    "        \n",
    "    \n",
    "    def getCurrentPlayer(self):\n",
    "        \n",
    "        return self.currentPlayer\n",
    "\n",
    "    def getPossibleActions(self):\n",
    "        '''\n",
    "        So what are my possible actions\n",
    "        When someone is working out a cryptogram there are certain things they do.  \n",
    "        However this is a bit different \n",
    "        '''\n",
    "        raise NotImplementedError()\n",
    "\n",
    "    def takeAction(self, action):\n",
    "        raise NotImplementedError()\n",
    "\n",
    "    def isTerminal(self):\n",
    "        raise NotImplementedError()\n",
    "\n",
    "    def getReward(self):\n",
    "        # only needed for terminal states\n",
    "        raise NotImplementedError()\n",
    "\n",
    "    def __eq__(self, other):\n",
    "        raise NotImplementedError()\n",
    "\n",
    "\n",
    "class ActionInterface():\n",
    "    def __eq__(self, other):\n",
    "        raise NotImplementedError\n",
    "\n",
    "    def __hash__(self):\n",
    "        raise NotImplementedError()"
   ]
  },
  {
   "cell_type": "code",
   "execution_count": null,
   "id": "79d8d2a5-baaf-40f0-abf2-79ca53a3ca3d",
   "metadata": {},
   "outputs": [],
   "source": [
    "from __future__ import division\n",
    "\n",
    "from copy import deepcopy\n",
    "from mcts import mcts\n",
    "from functools import reduce\n",
    "import operator\n",
    "\n",
    "\n",
    "class NaughtsAndCrossesState():\n",
    "    def __init__(self):\n",
    "        self.board = [[0, 0, 0], [0, 0, 0], [0, 0, 0]]\n",
    "        self.currentPlayer = 1\n",
    "    \n",
    "    def__str__(self):\n",
    "        '''\n",
    "        Print it out\n",
    "        '''\n",
    "    \n",
    "    def getCurrentPlayer(self):\n",
    "        return self.currentPlayer\n",
    "\n",
    "    def getPossibleActions(self):\n",
    "        possibleActions = []\n",
    "        for i in range(len(self.board)):\n",
    "            for j in range(len(self.board[i])):\n",
    "                if self.board[i][j] == 0:\n",
    "                    possibleActions.append(Action(player=self.currentPlayer, x=i, y=j))\n",
    "        return possibleActions\n",
    "\n",
    "    def takeAction(self, action):\n",
    "        newState = deepcopy(self)\n",
    "        newState.board[action.x][action.y] = action.player\n",
    "        newState.currentPlayer = self.currentPlayer * -1\n",
    "        return newState\n",
    "\n",
    "    def isTerminal(self):\n",
    "        for row in self.board:\n",
    "            if abs(sum(row)) == 3:\n",
    "                return True\n",
    "        for column in list(map(list, zip(*self.board))):\n",
    "            if abs(sum(column)) == 3:\n",
    "                return True\n",
    "        for diagonal in [[self.board[i][i] for i in range(len(self.board))],\n",
    "                         [self.board[i][len(self.board) - i - 1] for i in range(len(self.board))]]:\n",
    "            if abs(sum(diagonal)) == 3:\n",
    "                return True\n",
    "        return reduce(operator.mul, sum(self.board, []), 1)\n",
    "\n",
    "    def getReward(self):\n",
    "        for row in self.board:\n",
    "            if abs(sum(row)) == 3:\n",
    "                return sum(row) / 3\n",
    "        for column in list(map(list, zip(*self.board))):\n",
    "            if abs(sum(column)) == 3:\n",
    "                return sum(column) / 3\n",
    "        for diagonal in [[self.board[i][i] for i in range(len(self.board))],\n",
    "                         [self.board[i][len(self.board) - i - 1] for i in range(len(self.board))]]:\n",
    "            if abs(sum(diagonal)) == 3:\n",
    "                return sum(diagonal) / 3\n",
    "        return False\n",
    "\n",
    "\n",
    "class Action():\n",
    "    def __init__(self, player, x, y):\n",
    "        self.player = player\n",
    "        self.x = x\n",
    "        self.y = y\n",
    "\n",
    "    def __str__(self):\n",
    "        return str((self.x, self.y))\n",
    "\n",
    "    def __repr__(self):\n",
    "        return str(self)\n",
    "\n",
    "    def __eq__(self, other):\n",
    "        return self.__class__ == other.__class__ and self.x == other.x and self.y == other.y and self.player == other.player\n",
    "\n",
    "    def __hash__(self):\n",
    "        return hash((self.x, self.y, self.player))\n",
    "\n",
    "if __name__==\"__main__\":\n",
    "    initialState = NaughtsAndCrossesState()\n",
    "    searcher = mcts(timeLimit=1000)\n",
    "    action = searcher.search(initialState=initialState)\n",
    "\n",
    "    print(action)"
   ]
  },
  {
   "cell_type": "code",
   "execution_count": null,
   "id": "527dfdaa-7eef-4395-b321-d966fe9bdae1",
   "metadata": {},
   "outputs": [],
   "source": [
    "class Action():\n",
    "    '''\n",
    "    This is modeled after the tic-tac-toe example here: \n",
    "    https://github.com/pbsinclair42/MCTS/blob/master/naughtsandcrosses.py\n",
    "    \n",
    "    '''\n",
    "    def __init__(self, player, x, y):\n",
    "        '''\n",
    "        Don't get hung up on this being two player.\n",
    "        The idea is to solve the puzzle -- so maybe both x and y take turns and share\n",
    "        the same knowlege base.\n",
    "        '''\n",
    "        self.player = player\n",
    "        self.x = x\n",
    "        self.y = y\n",
    "\n",
    "    def __str__(self):\n",
    "        return str((self.x, self.y))\n",
    "\n",
    "    def __repr__(self):\n",
    "        return str(self)\n",
    "\n",
    "    def __eq__(self, other):\n",
    "        return self.__class__ == other.__class__ and self.x == other.x and self.y == other.y and self.player == other.player\n",
    "\n",
    "    def __hash__(self):\n",
    "        return hash((self.x, self.y, self.player))"
   ]
  },
  {
   "cell_type": "code",
   "execution_count": null,
   "id": "148e451f-1eab-49dc-a153-f9d5b4694875",
   "metadata": {},
   "outputs": [],
   "source": [
    "initialState = NaughtsAndCrossesState()\n",
    "searcher = mcts(timeLimit=1000)\n",
    "\n"
   ]
  },
  {
   "cell_type": "code",
   "execution_count": null,
   "id": "82121a84-d9db-4004-8c48-c612c3596193",
   "metadata": {},
   "outputs": [],
   "source": [
    "action = searcher.search(initialState=initialState)"
   ]
  },
  {
   "cell_type": "code",
   "execution_count": null,
   "id": "d2379ccb-b77f-490e-bf7e-20bf37b3b87c",
   "metadata": {},
   "outputs": [],
   "source": [
    "action"
   ]
  },
  {
   "cell_type": "code",
   "execution_count": null,
   "id": "8907a341-5622-4167-ae0a-2bf2c5a68e75",
   "metadata": {},
   "outputs": [],
   "source": [
    "initialState.board"
   ]
  },
  {
   "cell_type": "code",
   "execution_count": null,
   "id": "c026737b-dcb0-493b-b742-c6f70ff327ce",
   "metadata": {},
   "outputs": [],
   "source": []
  },
  {
   "cell_type": "code",
   "execution_count": null,
   "id": "c40ff361-247c-4a74-b6fc-ac82fbabeac3",
   "metadata": {},
   "outputs": [],
   "source": []
  },
  {
   "cell_type": "code",
   "execution_count": null,
   "id": "173b0b2d-1647-4e08-8b7a-189a8c907adc",
   "metadata": {},
   "outputs": [],
   "source": [
    "pz = Puzzle('/mnt/e/OneDrive - Johns Hopkins/EN.605.745/reynard/data/pz1.txt')\n"
   ]
  },
  {
   "cell_type": "code",
   "execution_count": null,
   "id": "096aa6d4-e3ac-4e1e-a51c-3b29e97f92e5",
   "metadata": {},
   "outputs": [],
   "source": [
    "pz"
   ]
  },
  {
   "cell_type": "code",
   "execution_count": null,
   "id": "fe864fe1-4e1e-4395-a6de-fe8b9849b6e8",
   "metadata": {},
   "outputs": [],
   "source": [
    "pz.showPuzzle()"
   ]
  },
  {
   "cell_type": "code",
   "execution_count": null,
   "id": "e716b0ec-c928-40ca-b64b-bf43e9480928",
   "metadata": {},
   "outputs": [],
   "source": []
  }
 ],
 "metadata": {
  "kernelspec": {
   "display_name": "Python 3",
   "language": "python",
   "name": "python3"
  },
  "language_info": {
   "codemirror_mode": {
    "name": "ipython",
    "version": 3
   },
   "file_extension": ".py",
   "mimetype": "text/x-python",
   "name": "python",
   "nbconvert_exporter": "python",
   "pygments_lexer": "ipython3",
   "version": "3.8.10"
  }
 },
 "nbformat": 4,
 "nbformat_minor": 5
}
